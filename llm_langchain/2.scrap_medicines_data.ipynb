{
 "cells": [
  {
   "cell_type": "code",
   "execution_count": 2,
   "metadata": {},
   "outputs": [],
   "source": [
    "import pandas as pd \n",
    "import numpy as np\n",
    "from selenium import webdriver\n",
    "from selenium.webdriver.common.by import By"
   ]
  },
  {
   "cell_type": "code",
   "execution_count": 46,
   "metadata": {},
   "outputs": [],
   "source": [
    "# scrap durg infromation from NHS using the selenium package\n",
    "\n",
    "def save_text_about_drug(drug):\n",
    "    driver = webdriver.Chrome(\"/usr/local/bin/chromedriver\")\n",
    "    driver.get(f\"https://www.nhs.uk/medicines/{drug}/about-{drug}\")\n",
    "\n",
    "    fetch_element = driver.find_element(by=By.XPATH, value='//main[@id=\"maincontent\"]')\n",
    "\n",
    "    fetch_text = fetch_element.text.replace(\"\\n\", \" \")\n",
    "\n",
    "    with open(f'{drug}.txt', 'w+') as fh:\n",
    "        fh.write(fetch_text)"
   ]
  },
  {
   "cell_type": "code",
   "execution_count": 47,
   "metadata": {},
   "outputs": [
    {
     "name": "stderr",
     "output_type": "stream",
     "text": [
      "C:\\Users\\Himanshu\\AppData\\Local\\Temp\\ipykernel_1640\\1861084087.py:2: DeprecationWarning: executable_path has been deprecated, please pass in a Service object\n",
      "  driver = webdriver.Chrome(\"/usr/local/bin/chromedriver\")\n"
     ]
    }
   ],
   "source": [
    "drug_list = ['Acrivastine', \n",
    "             'Adalimumab', \n",
    "             'Alendronic acid',\n",
    "             'Allopurinol',\n",
    "             'Alogliptin',\n",
    "             'Amitriptyline', \n",
    "             'metformin',\n",
    "             'Methadone',\n",
    "            'Methotrexate']\n",
    "\n",
    "for drug in drug_list:\n",
    "    save_text_about_drug(drug)"
   ]
  },
  {
   "cell_type": "code",
   "execution_count": null,
   "metadata": {},
   "outputs": [],
   "source": []
  }
 ],
 "metadata": {
  "kernelspec": {
   "display_name": "langchain",
   "language": "python",
   "name": "python3"
  },
  "language_info": {
   "codemirror_mode": {
    "name": "ipython",
    "version": 3
   },
   "file_extension": ".py",
   "mimetype": "text/x-python",
   "name": "python",
   "nbconvert_exporter": "python",
   "pygments_lexer": "ipython3",
   "version": "3.8.16"
  },
  "orig_nbformat": 4
 },
 "nbformat": 4,
 "nbformat_minor": 2
}
