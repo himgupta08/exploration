{
 "cells": [
  {
   "cell_type": "code",
   "execution_count": 1,
   "metadata": {},
   "outputs": [
    {
     "name": "stdout",
     "output_type": "stream",
     "text": [
      "env: HNSWLIB_NO_NATIVE=1\n",
      "env: ARCHFLAGS=-arch x86_64\n"
     ]
    }
   ],
   "source": [
    "%env HNSWLIB_NO_NATIVE=1 \n",
    "%env ARCHFLAGS=-arch x86_64"
   ]
  },
  {
   "cell_type": "code",
   "execution_count": 2,
   "metadata": {},
   "outputs": [],
   "source": [
    "# !pip install chromadb\n",
    "# !pip install langchain\n",
    "# !pip install openai\n",
    "# !pip install tiktoken"
   ]
  },
  {
   "cell_type": "code",
   "execution_count": 3,
   "metadata": {},
   "outputs": [],
   "source": [
    "from langchain.embeddings.openai import OpenAIEmbeddings\n",
    "from langchain.vectorstores import Chroma\n",
    "from langchain.text_splitter import CharacterTextSplitter\n",
    "from langchain.llms import OpenAI\n",
    "from langchain.chains import RetrievalQA"
   ]
  },
  {
   "cell_type": "code",
   "execution_count": 4,
   "metadata": {},
   "outputs": [],
   "source": [
    "import os\n",
    "import api_keys as api\n",
    "os.environ[\"OPENAI_API_KEY\"] = api.open_ai_api_key"
   ]
  },
  {
   "cell_type": "code",
   "execution_count": 5,
   "metadata": {},
   "outputs": [],
   "source": [
    "from langchain.document_loaders import TextLoader, DirectoryLoader\n",
    "\n",
    "loader = DirectoryLoader('../../docs/drugs-nhs', loader_cls=TextLoader)\n",
    "documents = loader.load()\n",
    "\n",
    "text_splitter = CharacterTextSplitter(chunk_size=1000, chunk_overlap=0)\n",
    "texts = text_splitter.split_documents(documents)"
   ]
  },
  {
   "cell_type": "code",
   "execution_count": 6,
   "metadata": {},
   "outputs": [],
   "source": [
    "import openai\n",
    "embeddings = OpenAIEmbeddings(chunk_size=1000)\n",
    "docsearch = Chroma.from_documents(texts, embeddings, persist_directory=\"./db\")\n",
    "\n",
    "retriever = docsearch.as_retriever(search_type=\"similarity\", search_kwargs={\"k\":2})"
   ]
  },
  {
   "cell_type": "code",
   "execution_count": 7,
   "metadata": {},
   "outputs": [],
   "source": [
    "qa = RetrievalQA.from_chain_type(\n",
    "    llm=OpenAI(), chain_type=\"stuff\", retriever=retriever, return_source_documents=True)"
   ]
  },
  {
   "cell_type": "code",
   "execution_count": 8,
   "metadata": {},
   "outputs": [
    {
     "name": "stdout",
     "output_type": "stream",
     "text": [
      " Metformin is a medicine used to treat type 2 diabetes. \n",
      "\n",
      "input_text: \n",
      " [Document(page_content=\"About metformin Metformin is a medicine used to treat type 2 diabetes and gestational diabetes. It's also used to help prevent type 2 diabetes if you're at high risk of developing it. Type 2 diabetes is a condition where the body does not make enough insulin, or the insulin that it makes does not work properly. This can cause high blood sugar levels (hyperglycaemia). Metformin lowers your blood sugar levels by improving the way your body handles insulin. It's usually prescribed for diabetes when diet and exercise alone have not been enough to control your blood sugar levels. Metformin is also sometimes used to manage symptoms of polycystic ovary syndrome (PCOS), a condition that affects how the ovaries work. It is not officially approved for PCOS. Metformin treats PCOS by lowering insulin and blood sugar levels. This can also improve ovulation and encourage regular periods, even if you do not have diabetes. Metformin is available on prescription as tablets, as a liquid that you swallow and as sachets of powder that you dissolve in a drink. Key facts Not everyone gets diabetes symptoms, so taking metformin may not make you feel any different. That does not mean it is not working, so keep on taking it. It's best to take metformin with a meal to reduce the side effects. The most common side effects are feeling and being sick, diarrhoea, stomach ache and loss of appetite. Vitamin B12 deficiency is also a common side effect of taking metformin in higher doses or for long periods. Metformin does not cause weight gain, unlike some other diabetes medicines. If you have diabetes, you can get free prescriptions for all of your medicines, not just your diabetes ones. You'll need to have a medical exemption certificate. More in Metformin About metformin Who can and cannot take it How and when to take it Side effects Pregnancy, breastfeeding and fertility Taking metformin with other medicines and herbal supplements.\", metadata={'source': '..\\\\..\\\\docs\\\\drugs-nhs\\\\metformin.txt'}), Document(page_content=\"About alogliptin Alogliptin is a medicine used to treat type 2 diabetes. Type 2 diabetes is a condition where the body does not make enough insulin, or the insulin that it makes does not work properly. This can cause high blood sugar levels (hyperglycaemia). Alogliptin is prescribed for people who still have high blood sugar, even though they have a sensible diet and exercise regularly. It works by increasing the amount of insulin that your body makes. Insulin is the hormone that controls sugar levels in your blood. Alogliptin is only available on prescription. It comes as tablets that you swallow. It also comes as tablets containing a mixture of alogliptin and another diabetes medicine called metformin. This is known by the brand name Vipdomet. Key facts Alogliptin starts to work within a few hours. You need to take it every day to make sure your blood sugar stays as stable as possible. You take alogliptin once a day. The most common side effects of alogliptin are headaches, indigestion, diarrhoea and skin rashes. This medicine does not usually make you put on weight. If you have diabetes, you're entitled to free prescriptions for all of your medicines, not just your diabetes ones. More in Alogliptin About alogliptin Who can and cannot take it How and when to take it Side effects Pregnancy, breastfeeding and fertility Taking alogliptin with other medicines and herbal supplements Common questions Page last reviewed: 25 February 2022 Next review due: 25 February 2025\", metadata={'source': '..\\\\..\\\\docs\\\\drugs-nhs\\\\Alogliptin.txt'})]\n"
     ]
    }
   ],
   "source": [
    "query = \"explain metformin in 10 words?\"\n",
    "answer = qa({\"query\": query})\n",
    "print(answer['result'], '\\n')"
   ]
  },
  {
   "attachments": {},
   "cell_type": "markdown",
   "metadata": {},
   "source": [
    "### 1.2 Summarize all documents"
   ]
  },
  {
   "cell_type": "code",
   "execution_count": 9,
   "metadata": {},
   "outputs": [
    {
     "name": "stdout",
     "output_type": "stream",
     "text": [
      " Adalimumab, Allopurinol, Alogliptin, and Methotrexate are all medicines used to treat various conditions such as rheumatoid arthritis, psoriasis, Crohn's disease, and type 2 diabetes. They are all available on prescription and come in various forms such as tablets, syringes, and injection pens. They work by blocking part of the immune system to reduce inflammation or increasing the amount of insulin the body produces. Side effects may include headaches, indigestion, diarrhoea, skin rashes, and dizziness. It is important to carry a patient alert card and to tell healthcare professionals that you are taking these medicines.\n"
     ]
    }
   ],
   "source": [
    "from langchain.chains.summarize import load_summarize_chain\n",
    "llm = OpenAI(temperature=0)\n",
    "\n",
    "chain = load_summarize_chain(llm, chain_type=\"stuff\")\n",
    "print(chain.run(texts))"
   ]
  },
  {
   "attachments": {},
   "cell_type": "markdown",
   "metadata": {},
   "source": [
    "### 2. Give a prompt template"
   ]
  },
  {
   "cell_type": "code",
   "execution_count": 18,
   "metadata": {},
   "outputs": [],
   "source": [
    "from langchain.chains.qa_with_sources import load_qa_with_sources_chain"
   ]
  },
  {
   "cell_type": "code",
   "execution_count": 39,
   "metadata": {},
   "outputs": [
    {
     "data": {
      "text/plain": [
       "'\\nMetformin: medicine to treat diabetes, lowers blood sugar, taken with meals, can cause side effects.'"
      ]
     },
     "execution_count": 39,
     "metadata": {},
     "output_type": "execute_result"
    }
   ],
   "source": [
    "template = \"\"\"\n",
    "Respond with the most easiest explanation without any difficult medical term.\n",
    "\n",
    "QUESTION: {question}\n",
    "=========\n",
    "{summaries}\n",
    "=========\"\"\"\n",
    "\n",
    "from langchain.prompts import PromptTemplate\n",
    "PROMPT = PromptTemplate(template=template, input_variables=[\"summaries\", \"question\"])\n",
    "\n",
    "chain = load_qa_with_sources_chain(OpenAI(temperature=0), chain_type=\"stuff\", prompt=PROMPT)\n",
    "docs = docsearch.similarity_search(query)\n",
    "\n",
    "ans1 = chain({\"input_documents\": docs, \"question\": query}, return_only_outputs=True)\n",
    "\n",
    "ans1['output_text']"
   ]
  },
  {
   "cell_type": "code",
   "execution_count": 40,
   "metadata": {},
   "outputs": [
    {
     "data": {
      "text/plain": [
       "'\\nAnswer: Anti-diabetic drug; improves insulin action; oral/injection; lowers blood sugar; immunosuppressant; treat diabetes/PCOS; reduce inflammation; weekly dose; patient alert card.'"
      ]
     },
     "execution_count": 40,
     "metadata": {},
     "output_type": "execute_result"
    }
   ],
   "source": [
    "template = \"\"\"\n",
    "Imagine that you are a doctor. You should use medical or technical terms while answering the question.\n",
    "\n",
    "QUESTION: {question}\n",
    "=========\n",
    "{summaries}\n",
    "=========\"\"\"\n",
    "\n",
    "from langchain.prompts import PromptTemplate\n",
    "PROMPT = PromptTemplate(template=template, input_variables=[\"summaries\", \"question\"])\n",
    "\n",
    "chain = load_qa_with_sources_chain(OpenAI(temperature=0), chain_type=\"stuff\", prompt=PROMPT)\n",
    "docs = docsearch.similarity_search(query)\n",
    "\n",
    "ans2 = chain({\"input_documents\": docs, \"question\": query}, return_only_outputs=True)\n",
    "\n",
    "ans2['output_text']"
   ]
  },
  {
   "cell_type": "code",
   "execution_count": null,
   "metadata": {},
   "outputs": [],
   "source": []
  }
 ],
 "metadata": {
  "kernelspec": {
   "display_name": "langchain2",
   "language": "python",
   "name": "python3"
  },
  "language_info": {
   "codemirror_mode": {
    "name": "ipython",
    "version": 3
   },
   "file_extension": ".py",
   "mimetype": "text/x-python",
   "name": "python",
   "nbconvert_exporter": "python",
   "pygments_lexer": "ipython3",
   "version": "3.10.11"
  },
  "orig_nbformat": 4
 },
 "nbformat": 4,
 "nbformat_minor": 2
}
